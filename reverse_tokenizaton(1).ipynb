{
  "nbformat": 4,
  "nbformat_minor": 0,
  "metadata": {
    "colab": {
      "provenance": []
    },
    "kernelspec": {
      "name": "python3",
      "display_name": "Python 3"
    },
    "language_info": {
      "name": "python"
    }
  },
  "cells": [
    {
      "cell_type": "code",
      "execution_count": null,
      "metadata": {
        "colab": {
          "base_uri": "https://localhost:8080/",
          "height": 384
        },
        "id": "U2lzh3uJ8eU2",
        "outputId": "99e1522a-d6b9-42b2-a943-1812b760d08a"
      },
      "outputs": [
        {
          "output_type": "stream",
          "name": "stdout",
          "text": [
            "plantext data\n",
            "    name  # friends\n",
            "0  Alice        100\n",
            "1    Bob        200\n",
            "2  Carol        300\n",
            "\n",
            "\n",
            "column redact\n"
          ]
        },
        {
          "output_type": "error",
          "ename": "AttributeError",
          "evalue": "ignored",
          "traceback": [
            "\u001b[0;31m---------------------------------------------------------------------------\u001b[0m",
            "\u001b[0;31mAttributeError\u001b[0m                            Traceback (most recent call last)",
            "\u001b[0;32m<ipython-input-5-bb0e93814b4c>\u001b[0m in \u001b[0;36m<cell line: 26>\u001b[0;34m()\u001b[0m\n\u001b[1;32m     24\u001b[0m \u001b[0;34m\u001b[0m\u001b[0m\n\u001b[1;32m     25\u001b[0m \u001b[0mprint\u001b[0m\u001b[0;34m(\u001b[0m\u001b[0;34m\"column redact\"\u001b[0m\u001b[0;34m)\u001b[0m\u001b[0;34m\u001b[0m\u001b[0;34m\u001b[0m\u001b[0m\n\u001b[0;32m---> 26\u001b[0;31m \u001b[0mprint\u001b[0m\u001b[0;34m(\u001b[0m\u001b[0mcape_dataframes\u001b[0m\u001b[0;34m.\u001b[0m\u001b[0mColumnRedact\u001b[0m\u001b[0;34m(\u001b[0m\u001b[0mplaintext_data\u001b[0m\u001b[0;34m)\u001b[0m\u001b[0;34m)\u001b[0m\u001b[0;34m\u001b[0m\u001b[0;34m\u001b[0m\u001b[0m\n\u001b[0m\u001b[1;32m     27\u001b[0m \u001b[0mprint\u001b[0m\u001b[0;34m(\u001b[0m\u001b[0;34m\"\\n\"\u001b[0m\u001b[0;34m)\u001b[0m\u001b[0;34m\u001b[0m\u001b[0;34m\u001b[0m\u001b[0m\n\u001b[1;32m     28\u001b[0m \u001b[0;34m\u001b[0m\u001b[0m\n",
            "\u001b[0;31mAttributeError\u001b[0m: module 'cape_dataframes' has no attribute 'ColumnRedact'"
          ]
        }
      ],
      "source": [
        "# !pip install cape-dataframes pyspark validators\n",
        "\n",
        "\n",
        "import pandas as pd\n",
        "\n",
        "from cape_dataframes.pandas.transformations import ReversibleTokenizer\n",
        "from cape_dataframes.pandas.transformations import TokenReverser\n",
        "\n",
        "import cape_dataframes\n",
        "\n",
        "# The `ReversibleTokenizer` and `TokenReverser` classes both take a `key` as input.\n",
        "# For the `TokenReverser` to be able to reverse the tokens produced by the\n",
        "# `ReversibleTokenizer`, you must use the same key.\n",
        "\n",
        "key = b\"5\" * 32\n",
        "\n",
        "# In this example, we will simply hide the names within our dataset.\n",
        "plaintext_data = pd.DataFrame(\n",
        "    {\"name\": [\"Alice\", \"Bob\", \"Carol\"], \"# friends\": [100, 200, 300]}\n",
        ")\n",
        "print(\"plantext data\")\n",
        "print(plaintext_data)\n",
        "print(\"\\n\")\n",
        "\n",
        "print(\"column redact\")\n",
        "print(cape_dataframes.ColumnRedact(plaintext_data))\n",
        "print(\"\\n\")\n",
        "\n",
        "# Tokenization logic\n",
        "tokenizer = ReversibleTokenizer(key=key)\n",
        "tokenized = pd.DataFrame(plaintext_data)\n",
        "tokenized[\"name\"] = tokenizer(plaintext_data[\"name\"])\n",
        "\n",
        "print(\"tokenized data\")\n",
        "print(plaintext_data)\n",
        "print(\"\\n\")\n",
        "\n",
        "# Reverse the tokenization\n",
        "reverser = TokenReverser(key=key)\n",
        "recovered = pd.DataFrame(tokenized)\n",
        "recovered[\"name\"] = reverser(tokenized[\"name\"])\n",
        "\n",
        "print(\"reversed tokens\")\n",
        "print(recovered)\n",
        "print(\"\\n\")"
      ]
    }
  ]
}